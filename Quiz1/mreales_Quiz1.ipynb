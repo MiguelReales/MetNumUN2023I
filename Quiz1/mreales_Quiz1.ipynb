{
  "nbformat": 4,
  "nbformat_minor": 0,
  "metadata": {
    "colab": {
      "provenance": []
    },
    "kernelspec": {
      "name": "python3",
      "display_name": "Python 3"
    },
    "language_info": {
      "name": "python"
    }
  },
  "cells": [
    {
      "cell_type": "markdown",
      "source": [
        "#Quiz 1 Desarrollo\n",
        "##Miguel Angel Reales "
      ],
      "metadata": {
        "id": "JO9BPAYIpN5V"
      }
    },
    {
      "cell_type": "code",
      "execution_count": 1,
      "metadata": {
        "id": "Zen3GacbpHVR"
      },
      "outputs": [],
      "source": [
        "def FizzBuzz(x):\n",
        "  if x % 3==0 and not (x % 5 == 0 ):\n",
        "    return \"Fizz!\"\n",
        "  elif x % 5==0 and not (x % 3 == 0 ):\n",
        "    return \"Buzz!\"\n",
        "  elif x % 3 == 0 and x % 5 == 0:\n",
        "    return \"FizzBuzz!\"\n",
        "  else:\n",
        "    return \"...\""
      ]
    },
    {
      "cell_type": "code",
      "source": [
        "def FizzBuzzList(n):\n",
        "  respuesta=[]\n",
        "  for i in range(n):\n",
        "    respuesta.append(FizzBuzz(i+1))\n",
        "  return respuesta"
      ],
      "metadata": {
        "id": "EbatY-pIr9RO"
      },
      "execution_count": 2,
      "outputs": []
    },
    {
      "cell_type": "code",
      "source": [
        "import numpy as np\n",
        "\n",
        "def standarize(X):\n",
        "  X_standarized = (X-X.mean())/X.std()\n",
        "  return X_standarized"
      ],
      "metadata": {
        "id": "IzGFLxecqeWF"
      },
      "execution_count": 9,
      "outputs": []
    },
    {
      "cell_type": "code",
      "source": [
        "import numpy as np\n",
        "\n",
        "def main_diagonal_matrix(A):\n",
        "  D = np.diag(np.diag(A)).astype(float)\n",
        "  return D"
      ],
      "metadata": {
        "id": "yAhqaJ32q8th"
      },
      "execution_count": 10,
      "outputs": []
    }
  ]
}